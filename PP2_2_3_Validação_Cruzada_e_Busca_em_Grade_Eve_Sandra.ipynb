{
  "cells": [
    {
      "cell_type": "markdown",
      "metadata": {
        "id": "view-in-github",
        "colab_type": "text"
      },
      "source": [
        "<a href=\"https://colab.research.google.com/github/samirasousza/RNA-2025.2-PP2.2/blob/main/PP2_2_3_Valida%C3%A7%C3%A3o_Cruzada_e_Busca_em_Grade_Eve_Sandra.ipynb\" target=\"_parent\"><img src=\"https://colab.research.google.com/assets/colab-badge.svg\" alt=\"Open In Colab\"/></a>"
      ]
    },
    {
      "cell_type": "markdown",
      "metadata": {
        "id": "4F4QMwUj0dRa"
      },
      "source": [
        "# Redes Neurais Artificiais 2025.2\n",
        "\n",
        "- **Disciplina**: Redes Neurais Artificiais 2025.2\n",
        "- **Professora**: Elloá B. Guedes (ebgcosta@uea.edu.br)  \n",
        "- **Github**: http://github.com/elloa  \n",
        "        \n",
        "\n",
        "Levando em conta a base de dados **_Forest Cover Type_**, esta parte do Projeto Prático diz respeito à proposição e avaliação de múltiplas redes neurais artificiais do tipo feedforward multilayer perceptron para o problema da classificação multi-classe da cobertura florestal em uma área do Roosevelt National Forest.\n",
        "\n",
        "## Busca em Grade\n",
        "\n",
        "Uma maneira padrão de escolher os parâmetros de um modelo de Machine Learning é por meio de uma busca em grade via força bruta. O algoritmo da busca em grade é dado como segue:\n",
        "\n",
        "1. Escolha a métrica de desempenho que você deseja maximizar  \n",
        "2. Escolha o algoritmo de Machine Learning (exemplo: redes neurais artificiais). Em seguida, defina os parâmetros ou hiperparâmetros deste tipo de modelo sobre os quais você dseja otimizar (número de épocas, taxa de aprendizado, etc.) e construa um array de valores a serem testados para cada parâmetro ou hiperparâmetro.  \n",
        "3. Defina a grade de busca, a qual é dada como o produto cartesiano de cada parâmetro a ser testado. Por exemplo, para os arrays [50, 100, 1000] e [10, 15], tem-se que a grade é [(50,10), (50,15), (100,10), (100,15), (1000,10), (1000,15)].\n",
        "4. Para cada combinação de parâmetros a serem otimizados, utilize o conjunto de treinamento para realizar uma validação cruzada (holdout ou k-fold) e calcule a métrica de avaliação no conjunto de teste (ou conjuntos de teste)\n",
        "5. Escolha a combinação de parâmetros que maximizam a métrica de avaliação. Este é o modelo otimizado.\n",
        "\n",
        "Por que esta abordagem funciona? Porque a busca em grade efetua uma pesquisa extensiva sobre as possíveis combinações de valores para cada um dos parâmetros a serem ajustados. Para cada combinação, ela estima a performance do modelo em dados novos. Por fim, o modelo com melhor métrica de desempenho é escolhido. Tem-se então que este modelo é o que melhor pode vir a generalizar mediante dados nunca antes vistos.\n",
        "\n",
        "## Efetuando a Busca em Grade sobre Hiperparâmetros das Top-6 RNAs\n",
        "\n",
        "Considerando a etapa anterior do projeto prático, foram identificadas pelo menos 6 melhores Redes Neurais para o problema da classificação multi-classe da cobertura florestal no conjunto de dados selecionado. Algumas destas redes possuem atributos categóricos como variáveis preditoras, enquanto outras possuem apenas os atributos numéricos como preditores.\n",
        "\n",
        "A primeira etapa desta segunda parte do projeto consiste em trazer para este notebook estas seis arquiteturas, ressaltando:\n",
        "\n",
        "1. Número de neurônios ocultos por camada  \n",
        "2. Função de Ativação  \n",
        "3. Utilização ou não de atributos categóricos   \n",
        "4. Desempenho médio +- desvio padrão nos testes anteriores  \n",
        "5. Número de repetições que a equipe conseguiu realizar para verificar os resultados  \n",
        "\n",
        "Elabore uma busca em grade sobre estas arquiteturas que contemple variações nos hiperparâmetros a seguir, conforme documentação de [MLPClassifier](https://scikit-learn.org/stable/modules/generated/sklearn.neural_network.MLPClassifier.html)\n",
        "\n",
        "A. Solver  (Não usar o LBFGS, pois é mais adequado para datasets pequenos)  \n",
        "B. Batch Size  \n",
        "C. Learning Rate Init  \n",
        "D. Paciência (n_iter_no_change)  \n",
        "E. Épocas  \n",
        "\n",
        "Nesta busca em grande, contemple a utilização do objeto [GridSearchCV](https://scikit-learn.org/stable/modules/generated/sklearn.model_selection.GridSearchCV.html)"
      ]
    },
    {
      "cell_type": "markdown",
      "metadata": {
        "id": "ao3Mz04t0dRc"
      },
      "source": [
        "## Validação Cruzada k-fold\n",
        "\n",
        "Na elaboração da busca em grid, vamos avaliar os modelos propostos segundo uma estratégia de validação cruzada ainda não explorada até o momento: a validação cruzada k-fold. Segundo a mesma, o conjunto de dados é particionado em k partes: a cada iteração, separa-se uma das partes para teste e o modelo é treinado com as k-1 partes remanescentes. Valores sugestivos de k na literatura são k = 3, 5 ou 10, pois o custo computacional desta validação dos modelos é alto. A métrica de desempenho é resultante da média dos desempenhos nas k iterações. A figura a seguir ilustra a ideia desta avaliação\n",
        "\n",
        "<img src = \"https://ethen8181.github.io/machine-learning/model_selection/img/kfolds.png\" width=600></img>\n",
        "\n",
        "Considerando a métrica de desempenho F1-Score, considere a validação cruzada 5-fold para aferir os resultados da busca em grande anterior."
      ]
    },
    {
      "cell_type": "code",
      "execution_count": null,
      "metadata": {
        "id": "7mNsKSFoHCkW"
      },
      "outputs": [],
      "source": [
        "import pandas as pd\n",
        "import numpy as np\n",
        "from sklearn.model_selection import train_test_split, GridSearchCV\n",
        "from sklearn.neural_network import MLPClassifier\n",
        "from sklearn.preprocessing import StandardScaler, OneHotEncoder\n",
        "from sklearn.compose import ColumnTransformer\n",
        "from sklearn.pipeline import Pipeline\n",
        "from sklearn.metrics import accuracy_score,f1_score, confusion_matrix, ConfusionMatrixDisplay\n",
        "from joblib import Parallel, delayed, dump, load\n",
        "import matplotlib.pyplot as plt\n",
        "import kagglehub\n",
        "import warnings\n",
        "warnings.filterwarnings(\"ignore\")"
      ]
    },
    {
      "cell_type": "code",
      "execution_count": null,
      "metadata": {
        "colab": {
          "base_uri": "https://localhost:8080/"
        },
        "id": "V7V4vogTHCe8",
        "outputId": "b77253bf-617c-4eb0-c485-227df48fb9c8"
      },
      "outputs": [
        {
          "name": "stdout",
          "output_type": "stream",
          "text": [
            "Dataset shape: (581012, 55)\n"
          ]
        }
      ],
      "source": [
        "path = kagglehub.dataset_download(\"uciml/forest-cover-type-dataset\")\n",
        "df = pd.read_csv(f\"{path}/covtype.csv\")\n",
        "\n",
        "print(\"Dataset shape:\", df.shape)\n",
        "\n",
        "y = df[\"Cover_Type\"]\n",
        "X = df.drop(\"Cover_Type\", axis=1)"
      ]
    },
    {
      "cell_type": "code",
      "execution_count": null,
      "metadata": {
        "id": "yxH0CWnHNCeJ"
      },
      "outputs": [],
      "source": [
        "num_cols = [\n",
        "    \"Elevation\", \"Aspect\", \"Slope\", \"Horizontal_Distance_To_Hydrology\",\n",
        "    \"Vertical_Distance_To_Hydrology\", \"Horizontal_Distance_To_Roadways\",\n",
        "    \"Hillshade_9am\", \"Hillshade_Noon\", \"Hillshade_3pm\",\n",
        "    \"Horizontal_Distance_To_Fire_Points\"\n",
        "]\n",
        "cat_cols = [col for col in X.columns if col not in num_cols]"
      ]
    },
    {
      "cell_type": "code",
      "execution_count": null,
      "metadata": {
        "id": "by6EEDlbNGq1"
      },
      "outputs": [],
      "source": [
        "\n",
        "def standardScale(df, X_train, X_test):\n",
        "    X_train_stand = X_train.copy()\n",
        "    X_test_stand = X_test.copy()\n",
        "    num_cols = df.columns[:-1]\n",
        "    for i in num_cols:\n",
        "        scale = StandardScaler().fit(X_train_stand[[i]])\n",
        "        X_train_stand[i] = scale.transform(X_train_stand[[i]])\n",
        "        X_test_stand[i] = scale.transform(X_test_stand[[i]])\n",
        "    return X_train_stand, X_test_stand\n",
        "\n",
        "X_train, X_test, y_train, y_test = train_test_split(\n",
        "    X, y, test_size=0.3, random_state=42, stratify=y\n",
        ")\n",
        "\n",
        "numeric_transformer = Pipeline(steps=[\n",
        "    (\"scaler\", StandardScaler())\n",
        "])\n",
        "\n",
        "categorical_transformer = Pipeline(steps=[\n",
        "    (\"passthrough\", \"passthrough\")\n",
        "])\n",
        "\n",
        "preprocessor_numeric = ColumnTransformer(\n",
        "    transformers=[(\"num\", numeric_transformer, num_cols)]\n",
        ")\n",
        "\n",
        "preprocessor_categorical = ColumnTransformer(\n",
        "    transformers=[\n",
        "        (\"num\", numeric_transformer, num_cols),\n",
        "        (\"cat\", categorical_transformer, cat_cols)\n",
        "    ]\n",
        ")"
      ]
    },
    {
      "cell_type": "code",
      "execution_count": null,
      "metadata": {
        "id": "8qADPHDINKZM"
      },
      "outputs": [],
      "source": [
        "architectures = [\n",
        "    {\"desc\": \"Categorical, hidden (4,2), α=0.5, relu\",\n",
        "     \"preproc\": preprocessor_categorical, \"hidden_layer_sizes\": (4), \"activation\": \"relu\", \"alpha\": 0.5},\n",
        "\n",
        "    {\"desc\": \"Numeric, hidden (16,7), α=2.0, relu\",\n",
        "     \"preproc\": preprocessor_numeric, \"hidden_layer_sizes\": (16), \"activation\": \"relu\", \"alpha\": 2.0},\n",
        "\n",
        "    {\"desc\": \"Categorical, hidden (25,1), α=3.0, relu\",\n",
        "     \"preproc\": preprocessor_categorical, \"hidden_layer_sizes\": (25), \"activation\": \"relu\", \"alpha\": 3.0},\n",
        "\n",
        "    {\"desc\": \"Numeric, hidden (8,4), tanh\",\n",
        "     \"preproc\": preprocessor_numeric, \"hidden_layer_sizes\": (8, 4), \"activation\": \"tanh\", \"alpha\": 0.0001},\n",
        "\n",
        "    {\"desc\": \"Numeric, hidden (8,4), relu\",\n",
        "     \"preproc\": preprocessor_numeric, \"hidden_layer_sizes\": (8, 4), \"activation\": \"relu\", \"alpha\": 0.0001},\n",
        "\n",
        "    {\"desc\": \"Numeric, hidden (8,), logistic\",\n",
        "     \"preproc\": preprocessor_numeric, \"hidden_layer_sizes\": (8,), \"activation\": \"logistic\", \"alpha\": 0.0001},\n",
        "]\n",
        "\n",
        "param_grid = {\n",
        "    \"mlp__solver\": [\"adam\", \"sgd\"],\n",
        "    \"mlp__batch_size\": [32, 64],\n",
        "    \"mlp__learning_rate_init\": [0.001, 0.01],\n",
        "    \"mlp__n_iter_no_change\": [5, 10],\n",
        "    \"mlp__max_iter\": [100, 200]\n",
        "}"
      ]
    },
    {
      "cell_type": "code",
      "execution_count": null,
      "metadata": {
        "colab": {
          "base_uri": "https://localhost:8080/",
          "height": 356
        },
        "id": "jP7IvU-8NMSD",
        "outputId": "19de5348-8c31-4698-a83f-ece961253e20"
      },
      "outputs": [
        {
          "name": "stderr",
          "output_type": "stream",
          "text": [
            "/home/evelynbessa/Downloads/uea/mlprun/lib/python3.10/site-packages/sklearn/neural_network/_multilayer_perceptron.py:781: ConvergenceWarning: Stochastic Optimizer: Maximum iterations (100) reached and the optimization hasn't converged yet.\n",
            "  warnings.warn(\n",
            "/home/evelynbessa/Downloads/uea/mlprun/lib/python3.10/site-packages/sklearn/neural_network/_multilayer_perceptron.py:781: ConvergenceWarning: Stochastic Optimizer: Maximum iterations (100) reached and the optimization hasn't converged yet.\n",
            "  warnings.warn(\n",
            "/home/evelynbessa/Downloads/uea/mlprun/lib/python3.10/site-packages/sklearn/neural_network/_multilayer_perceptron.py:781: ConvergenceWarning: Stochastic Optimizer: Maximum iterations (100) reached and the optimization hasn't converged yet.\n",
            "  warnings.warn(\n",
            "/home/evelynbessa/Downloads/uea/mlprun/lib/python3.10/site-packages/sklearn/neural_network/_multilayer_perceptron.py:781: ConvergenceWarning: Stochastic Optimizer: Maximum iterations (100) reached and the optimization hasn't converged yet.\n",
            "  warnings.warn(\n",
            "/home/evelynbessa/Downloads/uea/mlprun/lib/python3.10/site-packages/sklearn/neural_network/_multilayer_perceptron.py:781: ConvergenceWarning: Stochastic Optimizer: Maximum iterations (100) reached and the optimization hasn't converged yet.\n",
            "  warnings.warn(\n",
            "/home/evelynbessa/Downloads/uea/mlprun/lib/python3.10/site-packages/sklearn/neural_network/_multilayer_perceptron.py:781: ConvergenceWarning: Stochastic Optimizer: Maximum iterations (100) reached and the optimization hasn't converged yet.\n",
            "  warnings.warn(\n",
            "/home/evelynbessa/Downloads/uea/mlprun/lib/python3.10/site-packages/sklearn/neural_network/_multilayer_perceptron.py:781: ConvergenceWarning: Stochastic Optimizer: Maximum iterations (100) reached and the optimization hasn't converged yet.\n",
            "  warnings.warn(\n"
          ]
        },
        {
          "name": "stdout",
          "output_type": "stream",
          "text": [
            "\n",
            "=== Running architecture: Categorical, hidden (25,1), α=3.0, relu ===\n"
          ]
        },
        {
          "name": "stderr",
          "output_type": "stream",
          "text": [
            "/home/evelynbessa/Downloads/uea/mlprun/lib/python3.10/site-packages/sklearn/neural_network/_multilayer_perceptron.py:781: ConvergenceWarning: Stochastic Optimizer: Maximum iterations (100) reached and the optimization hasn't converged yet.\n",
            "  warnings.warn(\n",
            "/home/evelynbessa/Downloads/uea/mlprun/lib/python3.10/site-packages/sklearn/neural_network/_multilayer_perceptron.py:781: ConvergenceWarning: Stochastic Optimizer: Maximum iterations (100) reached and the optimization hasn't converged yet.\n",
            "  warnings.warn(\n",
            "/home/evelynbessa/Downloads/uea/mlprun/lib/python3.10/site-packages/sklearn/neural_network/_multilayer_perceptron.py:781: ConvergenceWarning: Stochastic Optimizer: Maximum iterations (100) reached and the optimization hasn't converged yet.\n",
            "  warnings.warn(\n",
            "/home/evelynbessa/Downloads/uea/mlprun/lib/python3.10/site-packages/sklearn/neural_network/_multilayer_perceptron.py:781: ConvergenceWarning: Stochastic Optimizer: Maximum iterations (100) reached and the optimization hasn't converged yet.\n",
            "  warnings.warn(\n",
            "/home/evelynbessa/Downloads/uea/mlprun/lib/python3.10/site-packages/sklearn/neural_network/_multilayer_perceptron.py:781: ConvergenceWarning: Stochastic Optimizer: Maximum iterations (100) reached and the optimization hasn't converged yet.\n",
            "  warnings.warn(\n",
            "/home/evelynbessa/Downloads/uea/mlprun/lib/python3.10/site-packages/sklearn/neural_network/_multilayer_perceptron.py:781: ConvergenceWarning: Stochastic Optimizer: Maximum iterations (100) reached and the optimization hasn't converged yet.\n",
            "  warnings.warn(\n",
            "/home/evelynbessa/Downloads/uea/mlprun/lib/python3.10/site-packages/sklearn/neural_network/_multilayer_perceptron.py:781: ConvergenceWarning: Stochastic Optimizer: Maximum iterations (100) reached and the optimization hasn't converged yet.\n",
            "  warnings.warn(\n",
            "/home/evelynbessa/Downloads/uea/mlprun/lib/python3.10/site-packages/sklearn/neural_network/_multilayer_perceptron.py:781: ConvergenceWarning: Stochastic Optimizer: Maximum iterations (100) reached and the optimization hasn't converged yet.\n",
            "  warnings.warn(\n",
            "/home/evelynbessa/Downloads/uea/mlprun/lib/python3.10/site-packages/sklearn/neural_network/_multilayer_perceptron.py:781: ConvergenceWarning: Stochastic Optimizer: Maximum iterations (100) reached and the optimization hasn't converged yet.\n",
            "  warnings.warn(\n",
            "/home/evelynbessa/Downloads/uea/mlprun/lib/python3.10/site-packages/sklearn/neural_network/_multilayer_perceptron.py:781: ConvergenceWarning: Stochastic Optimizer: Maximum iterations (100) reached and the optimization hasn't converged yet.\n",
            "  warnings.warn(\n",
            "/home/evelynbessa/Downloads/uea/mlprun/lib/python3.10/site-packages/sklearn/neural_network/_multilayer_perceptron.py:781: ConvergenceWarning: Stochastic Optimizer: Maximum iterations (100) reached and the optimization hasn't converged yet.\n",
            "  warnings.warn(\n",
            "/home/evelynbessa/Downloads/uea/mlprun/lib/python3.10/site-packages/sklearn/neural_network/_multilayer_perceptron.py:781: ConvergenceWarning: Stochastic Optimizer: Maximum iterations (100) reached and the optimization hasn't converged yet.\n",
            "  warnings.warn(\n",
            "/home/evelynbessa/Downloads/uea/mlprun/lib/python3.10/site-packages/sklearn/neural_network/_multilayer_perceptron.py:781: ConvergenceWarning: Stochastic Optimizer: Maximum iterations (100) reached and the optimization hasn't converged yet.\n",
            "  warnings.warn(\n",
            "/home/evelynbessa/Downloads/uea/mlprun/lib/python3.10/site-packages/sklearn/neural_network/_multilayer_perceptron.py:781: ConvergenceWarning: Stochastic Optimizer: Maximum iterations (100) reached and the optimization hasn't converged yet.\n",
            "  warnings.warn(\n",
            "/home/evelynbessa/Downloads/uea/mlprun/lib/python3.10/site-packages/sklearn/neural_network/_multilayer_perceptron.py:781: ConvergenceWarning: Stochastic Optimizer: Maximum iterations (100) reached and the optimization hasn't converged yet.\n",
            "  warnings.warn(\n",
            "/home/evelynbessa/Downloads/uea/mlprun/lib/python3.10/site-packages/sklearn/neural_network/_multilayer_perceptron.py:781: ConvergenceWarning: Stochastic Optimizer: Maximum iterations (100) reached and the optimization hasn't converged yet.\n",
            "  warnings.warn(\n",
            "/home/evelynbessa/Downloads/uea/mlprun/lib/python3.10/site-packages/sklearn/neural_network/_multilayer_perceptron.py:781: ConvergenceWarning: Stochastic Optimizer: Maximum iterations (100) reached and the optimization hasn't converged yet.\n",
            "  warnings.warn(\n",
            "/home/evelynbessa/Downloads/uea/mlprun/lib/python3.10/site-packages/sklearn/neural_network/_multilayer_perceptron.py:781: ConvergenceWarning: Stochastic Optimizer: Maximum iterations (200) reached and the optimization hasn't converged yet.\n",
            "  warnings.warn(\n",
            "/home/evelynbessa/Downloads/uea/mlprun/lib/python3.10/site-packages/sklearn/neural_network/_multilayer_perceptron.py:781: ConvergenceWarning: Stochastic Optimizer: Maximum iterations (100) reached and the optimization hasn't converged yet.\n",
            "  warnings.warn(\n",
            "/home/evelynbessa/Downloads/uea/mlprun/lib/python3.10/site-packages/sklearn/neural_network/_multilayer_perceptron.py:781: ConvergenceWarning: Stochastic Optimizer: Maximum iterations (100) reached and the optimization hasn't converged yet.\n",
            "  warnings.warn(\n",
            "/home/evelynbessa/Downloads/uea/mlprun/lib/python3.10/site-packages/sklearn/neural_network/_multilayer_perceptron.py:781: ConvergenceWarning: Stochastic Optimizer: Maximum iterations (100) reached and the optimization hasn't converged yet.\n",
            "  warnings.warn(\n",
            "/home/evelynbessa/Downloads/uea/mlprun/lib/python3.10/site-packages/sklearn/neural_network/_multilayer_perceptron.py:781: ConvergenceWarning: Stochastic Optimizer: Maximum iterations (100) reached and the optimization hasn't converged yet.\n",
            "  warnings.warn(\n",
            "/home/evelynbessa/Downloads/uea/mlprun/lib/python3.10/site-packages/sklearn/neural_network/_multilayer_perceptron.py:781: ConvergenceWarning: Stochastic Optimizer: Maximum iterations (100) reached and the optimization hasn't converged yet.\n",
            "  warnings.warn(\n",
            "/home/evelynbessa/Downloads/uea/mlprun/lib/python3.10/site-packages/sklearn/neural_network/_multilayer_perceptron.py:781: ConvergenceWarning: Stochastic Optimizer: Maximum iterations (100) reached and the optimization hasn't converged yet.\n",
            "  warnings.warn(\n",
            "/home/evelynbessa/Downloads/uea/mlprun/lib/python3.10/site-packages/sklearn/neural_network/_multilayer_perceptron.py:781: ConvergenceWarning: Stochastic Optimizer: Maximum iterations (100) reached and the optimization hasn't converged yet.\n",
            "  warnings.warn(\n",
            "/home/evelynbessa/Downloads/uea/mlprun/lib/python3.10/site-packages/sklearn/neural_network/_multilayer_perceptron.py:781: ConvergenceWarning: Stochastic Optimizer: Maximum iterations (100) reached and the optimization hasn't converged yet.\n",
            "  warnings.warn(\n",
            "/home/evelynbessa/Downloads/uea/mlprun/lib/python3.10/site-packages/sklearn/neural_network/_multilayer_perceptron.py:781: ConvergenceWarning: Stochastic Optimizer: Maximum iterations (100) reached and the optimization hasn't converged yet.\n",
            "  warnings.warn(\n",
            "/home/evelynbessa/Downloads/uea/mlprun/lib/python3.10/site-packages/sklearn/neural_network/_multilayer_perceptron.py:781: ConvergenceWarning: Stochastic Optimizer: Maximum iterations (200) reached and the optimization hasn't converged yet.\n",
            "  warnings.warn(\n",
            "/home/evelynbessa/Downloads/uea/mlprun/lib/python3.10/site-packages/sklearn/neural_network/_multilayer_perceptron.py:781: ConvergenceWarning: Stochastic Optimizer: Maximum iterations (200) reached and the optimization hasn't converged yet.\n",
            "  warnings.warn(\n"
          ]
        },
        {
          "name": "stdout",
          "output_type": "stream",
          "text": [
            "\n",
            "=== Running architecture: Numeric, hidden (8,4), tanh ===\n"
          ]
        },
        {
          "name": "stderr",
          "output_type": "stream",
          "text": [
            "/home/evelynbessa/Downloads/uea/mlprun/lib/python3.10/site-packages/sklearn/neural_network/_multilayer_perceptron.py:781: ConvergenceWarning: Stochastic Optimizer: Maximum iterations (200) reached and the optimization hasn't converged yet.\n",
            "  warnings.warn(\n",
            "/home/evelynbessa/Downloads/uea/mlprun/lib/python3.10/site-packages/sklearn/neural_network/_multilayer_perceptron.py:781: ConvergenceWarning: Stochastic Optimizer: Maximum iterations (100) reached and the optimization hasn't converged yet.\n",
            "  warnings.warn(\n",
            "/home/evelynbessa/Downloads/uea/mlprun/lib/python3.10/site-packages/sklearn/neural_network/_multilayer_perceptron.py:781: ConvergenceWarning: Stochastic Optimizer: Maximum iterations (100) reached and the optimization hasn't converged yet.\n",
            "  warnings.warn(\n"
          ]
        },
        {
          "name": "stdout",
          "output_type": "stream",
          "text": [
            "\n",
            "=== Running architecture: Numeric, hidden (16,7), α=2.0, relu ===\n",
            "\n",
            "=== Running architecture: Numeric, hidden (8,4), relu ===\n",
            "\n",
            "=== Running architecture: Categorical, hidden (4,2), α=0.5, relu ===\n",
            "\n",
            "=== Running architecture: Numeric, hidden (8,), logistic ===\n",
            "\n",
            "===== Best Parameters Summary =====\n",
            "                              Architecture  \\\n",
            "0   Categorical, hidden (4,2), α=0.5, relu   \n",
            "1      Numeric, hidden (16,7), α=2.0, relu   \n",
            "2  Categorical, hidden (25,1), α=3.0, relu   \n",
            "3              Numeric, hidden (8,4), tanh   \n",
            "4              Numeric, hidden (8,4), relu   \n",
            "5           Numeric, hidden (8,), logistic   \n",
            "\n",
            "                                     Best Parameters  Mean CV Accuracy  \\\n",
            "0  {'mlp__batch_size': 64, 'mlp__learning_rate_in...          0.713979   \n",
            "1  {'mlp__batch_size': 64, 'mlp__learning_rate_in...          0.686957   \n",
            "2  {'mlp__batch_size': 64, 'mlp__learning_rate_in...          0.688258   \n",
            "3  {'mlp__batch_size': 32, 'mlp__learning_rate_in...          0.728336   \n",
            "4  {'mlp__batch_size': 32, 'mlp__learning_rate_in...          0.717844   \n",
            "5  {'mlp__batch_size': 64, 'mlp__learning_rate_in...          0.717426   \n",
            "\n",
            "   Test Accuracy  Test F1-score  Train Accuracy  Train F1-score  \n",
            "0       0.714545       0.694804        0.714395        0.694669  \n",
            "1       0.687167       0.654834        0.687174        0.654961  \n",
            "2       0.688022       0.655454        0.687579        0.655128  \n",
            "3       0.723977       0.713070        0.723738        0.712788  \n",
            "4       0.721257       0.709001        0.721584        0.709308  \n",
            "5       0.712313       0.699624        0.712184        0.699541  \n",
            "\n",
            "===== All Grid Search Results =====\n",
            "                               Architecture  \\\n",
            "0    Categorical, hidden (4,2), α=0.5, relu   \n",
            "1    Categorical, hidden (4,2), α=0.5, relu   \n",
            "2    Categorical, hidden (4,2), α=0.5, relu   \n",
            "3    Categorical, hidden (4,2), α=0.5, relu   \n",
            "4    Categorical, hidden (4,2), α=0.5, relu   \n",
            "..                                      ...   \n",
            "187          Numeric, hidden (8,), logistic   \n",
            "188          Numeric, hidden (8,), logistic   \n",
            "189          Numeric, hidden (8,), logistic   \n",
            "190          Numeric, hidden (8,), logistic   \n",
            "191          Numeric, hidden (8,), logistic   \n",
            "\n",
            "                                                params  mean_test_score  \\\n",
            "0    {'mlp__batch_size': 32, 'mlp__learning_rate_in...         0.700507   \n",
            "1    {'mlp__batch_size': 32, 'mlp__learning_rate_in...         0.700672   \n",
            "2    {'mlp__batch_size': 32, 'mlp__learning_rate_in...         0.702167   \n",
            "3    {'mlp__batch_size': 32, 'mlp__learning_rate_in...         0.701024   \n",
            "4    {'mlp__batch_size': 32, 'mlp__learning_rate_in...         0.700507   \n",
            "..                                                 ...              ...   \n",
            "187  {'mlp__batch_size': 64, 'mlp__learning_rate_in...         0.717426   \n",
            "188  {'mlp__batch_size': 64, 'mlp__learning_rate_in...         0.712747   \n",
            "189  {'mlp__batch_size': 64, 'mlp__learning_rate_in...         0.717107   \n",
            "190  {'mlp__batch_size': 64, 'mlp__learning_rate_in...         0.712905   \n",
            "191  {'mlp__batch_size': 64, 'mlp__learning_rate_in...         0.717107   \n",
            "\n",
            "     std_test_score  mean_train_score  \n",
            "0          0.000686          0.700460  \n",
            "1          0.000767          0.700627  \n",
            "2          0.000615          0.701856  \n",
            "3          0.001413          0.700946  \n",
            "4          0.000686          0.700460  \n",
            "..              ...               ...  \n",
            "187        0.001107          0.717456  \n",
            "188        0.000268          0.713516  \n",
            "189        0.000155          0.717025  \n",
            "190        0.001703          0.712914  \n",
            "191        0.001146          0.717100  \n",
            "\n",
            "[192 rows x 5 columns]\n",
            "\n",
            "===== Test Results with F1-score =====\n",
            "                              Architecture  Test Accuracy  Test F1-score  \\\n",
            "0   Categorical, hidden (4,2), α=0.5, relu       0.714545       0.694804   \n",
            "1      Numeric, hidden (16,7), α=2.0, relu       0.687167       0.654834   \n",
            "2  Categorical, hidden (25,1), α=3.0, relu       0.688022       0.655454   \n",
            "3              Numeric, hidden (8,4), tanh       0.723977       0.713070   \n",
            "4              Numeric, hidden (8,4), relu       0.721257       0.709001   \n",
            "5           Numeric, hidden (8,), logistic       0.712313       0.699624   \n",
            "\n",
            "   Train Accuracy  Train F1-score  \n",
            "0        0.714395        0.694669  \n",
            "1        0.687174        0.654961  \n",
            "2        0.687579        0.655128  \n",
            "3        0.723738        0.712788  \n",
            "4        0.721584        0.709308  \n",
            "5        0.712184        0.699541  \n"
          ]
        }
      ],
      "source": [
        "results_summary = []\n",
        "results_all = []\n",
        "\n",
        "def run_grid_search(arch, X_train, y_train, X_test, y_test, param_grid):\n",
        "    print(f\"\\n=== Running architecture: {arch['desc']} ===\")\n",
        "\n",
        "    pipeline = Pipeline(steps=[\n",
        "        (\"preprocessor\", arch[\"preproc\"]),\n",
        "        (\"mlp\", MLPClassifier(\n",
        "            hidden_layer_sizes=arch[\"hidden_layer_sizes\"],\n",
        "            activation=arch[\"activation\"],\n",
        "            alpha=arch[\"alpha\"],\n",
        "            random_state=42\n",
        "        ))\n",
        "    ])\n",
        "\n",
        "    grid_search = GridSearchCV(\n",
        "        estimator=pipeline,\n",
        "        param_grid=param_grid,\n",
        "        scoring=\"accuracy\",\n",
        "        n_jobs=-1,\n",
        "        cv=3,\n",
        "        verbose=0,\n",
        "        return_train_score=True\n",
        "    )\n",
        "\n",
        "    grid_search.fit(X_train, y_train)\n",
        "\n",
        "    best_model = grid_search.best_estimator_\n",
        "    y_pred = best_model.predict(X_test)\n",
        "    y_train_pred = best_model.predict(X_train)\n",
        "\n",
        "    acc = accuracy_score(y_test, y_pred)\n",
        "    f1 = f1_score(y_test, y_pred, average='weighted')\n",
        "    train_acc = accuracy_score(y_train, y_train_pred)\n",
        "    train_f1 = f1_score(y_train, y_train_pred, average='weighted')\n",
        "\n",
        "    summary = {\n",
        "        \"Architecture\": arch[\"desc\"],\n",
        "        \"Best Parameters\": grid_search.best_params_,\n",
        "        \"Mean CV Accuracy\": grid_search.best_score_,\n",
        "        \"Test Accuracy\": acc,\n",
        "        \"Test F1-score\": f1,\n",
        "        \"Train Accuracy\": train_acc,\n",
        "        \"Train F1-score\": train_f1\n",
        "    }\n",
        "\n",
        "    df_all = pd.DataFrame(grid_search.cv_results_)\n",
        "    df_all[\"Architecture\"] = arch[\"desc\"]\n",
        "\n",
        "    dump(summary, f\"grid_summary_{arch['desc'].replace(' ', '_')}.joblib\")\n",
        "    dump(df_all, f\"grid_all_results_{arch['desc'].replace(' ', '_')}.joblib\")\n",
        "\n",
        "    return summary, df_all\n",
        "\n",
        "results = Parallel(n_jobs=4)(\n",
        "    delayed(run_grid_search)(arch, X_train, y_train, X_test, y_test, param_grid)\n",
        "    for arch in architectures\n",
        ")\n",
        "\n",
        "results_summary = [r[0] for r in results]\n",
        "results_all = [r[1] for r in results]\n",
        "\n",
        "df_best = pd.DataFrame(results_summary)\n",
        "\n",
        "df_all = pd.concat(results_all, ignore_index=True)\n",
        "\n",
        "print(\"\\n===== Best Parameters Summary =====\")\n",
        "print(df_best)\n",
        "\n",
        "print(\"\\n===== All Grid Search Results =====\")\n",
        "print(df_all[[\"Architecture\", \"params\", \"mean_test_score\", \"std_test_score\", \"mean_train_score\"]])\n",
        "\n",
        "print(\"\\n===== Test Results with F1-score =====\")\n",
        "print(df_best[[\"Architecture\", \"Test Accuracy\", \"Test F1-score\", \"Train Accuracy\", \"Train F1-score\"]])\n"
      ]
    },
    {
      "cell_type": "code",
      "execution_count": null,
      "metadata": {
        "id": "L6jxPOLuMICf",
        "outputId": "a9d4cffb-d1f3-4e49-b65b-d8c6239c3413"
      },
      "outputs": [
        {
          "name": "stdout",
          "output_type": "stream",
          "text": [
            "\n",
            "===== Best Parameters Summary =====\n",
            "                              Architecture  \\\n",
            "0   Categorical, hidden (4,2), α=0.5, relu   \n",
            "1      Numeric, hidden (16,7), α=2.0, relu   \n",
            "2  Categorical, hidden (25,1), α=3.0, relu   \n",
            "3              Numeric, hidden (8,4), tanh   \n",
            "4              Numeric, hidden (8,4), relu   \n",
            "5           Numeric, hidden (8,), logistic   \n",
            "\n",
            "                                     Best Parameters  Mean CV Accuracy  \\\n",
            "0  {'mlp__batch_size': 64, 'mlp__learning_rate_in...          0.713979   \n",
            "1  {'mlp__batch_size': 64, 'mlp__learning_rate_in...          0.686957   \n",
            "2  {'mlp__batch_size': 64, 'mlp__learning_rate_in...          0.688258   \n",
            "3  {'mlp__batch_size': 32, 'mlp__learning_rate_in...          0.728336   \n",
            "4  {'mlp__batch_size': 32, 'mlp__learning_rate_in...          0.717844   \n",
            "5  {'mlp__batch_size': 64, 'mlp__learning_rate_in...          0.717426   \n",
            "\n",
            "   Test Accuracy  Test F1-score  Train Accuracy  Train F1-score  \n",
            "0       0.714545       0.694804        0.714395        0.694669  \n",
            "1       0.687167       0.654834        0.687174        0.654961  \n",
            "2       0.688022       0.655454        0.687579        0.655128  \n",
            "3       0.723977       0.713070        0.723738        0.712788  \n",
            "4       0.721257       0.709001        0.721584        0.709308  \n",
            "5       0.712313       0.699624        0.712184        0.699541  \n",
            "\n",
            "===== All Grid Search Results =====\n",
            "                               Architecture  \\\n",
            "0    Categorical, hidden (4,2), α=0.5, relu   \n",
            "1    Categorical, hidden (4,2), α=0.5, relu   \n",
            "2    Categorical, hidden (4,2), α=0.5, relu   \n",
            "3    Categorical, hidden (4,2), α=0.5, relu   \n",
            "4    Categorical, hidden (4,2), α=0.5, relu   \n",
            "..                                      ...   \n",
            "187          Numeric, hidden (8,), logistic   \n",
            "188          Numeric, hidden (8,), logistic   \n",
            "189          Numeric, hidden (8,), logistic   \n",
            "190          Numeric, hidden (8,), logistic   \n",
            "191          Numeric, hidden (8,), logistic   \n",
            "\n",
            "                                                params  mean_test_score  \\\n",
            "0    {'mlp__batch_size': 32, 'mlp__learning_rate_in...         0.700507   \n",
            "1    {'mlp__batch_size': 32, 'mlp__learning_rate_in...         0.700672   \n",
            "2    {'mlp__batch_size': 32, 'mlp__learning_rate_in...         0.702167   \n",
            "3    {'mlp__batch_size': 32, 'mlp__learning_rate_in...         0.701024   \n",
            "4    {'mlp__batch_size': 32, 'mlp__learning_rate_in...         0.700507   \n",
            "..                                                 ...              ...   \n",
            "187  {'mlp__batch_size': 64, 'mlp__learning_rate_in...         0.717426   \n",
            "188  {'mlp__batch_size': 64, 'mlp__learning_rate_in...         0.712747   \n",
            "189  {'mlp__batch_size': 64, 'mlp__learning_rate_in...         0.717107   \n",
            "190  {'mlp__batch_size': 64, 'mlp__learning_rate_in...         0.712905   \n",
            "191  {'mlp__batch_size': 64, 'mlp__learning_rate_in...         0.717107   \n",
            "\n",
            "     std_test_score  mean_train_score  \n",
            "0          0.000686          0.700460  \n",
            "1          0.000767          0.700627  \n",
            "2          0.000615          0.701856  \n",
            "3          0.001413          0.700946  \n",
            "4          0.000686          0.700460  \n",
            "..              ...               ...  \n",
            "187        0.001107          0.717456  \n",
            "188        0.000268          0.713516  \n",
            "189        0.000155          0.717025  \n",
            "190        0.001703          0.712914  \n",
            "191        0.001146          0.717100  \n",
            "\n",
            "[192 rows x 5 columns]\n",
            "\n",
            "===== Test Results with F1-score =====\n",
            "                              Architecture  Test Accuracy  Test F1-score  \\\n",
            "0   Categorical, hidden (4,2), α=0.5, relu       0.714545       0.694804   \n",
            "1      Numeric, hidden (16,7), α=2.0, relu       0.687167       0.654834   \n",
            "2  Categorical, hidden (25,1), α=3.0, relu       0.688022       0.655454   \n",
            "3              Numeric, hidden (8,4), tanh       0.723977       0.713070   \n",
            "4              Numeric, hidden (8,4), relu       0.721257       0.709001   \n",
            "5           Numeric, hidden (8,), logistic       0.712313       0.699624   \n",
            "\n",
            "   Train Accuracy  Train F1-score  \n",
            "0        0.714395        0.694669  \n",
            "1        0.687174        0.654961  \n",
            "2        0.687579        0.655128  \n",
            "3        0.723738        0.712788  \n",
            "4        0.721584        0.709308  \n",
            "5        0.712184        0.699541  \n"
          ]
        }
      ],
      "source": [
        "results_summary = [r[0] for r in results]\n",
        "results_all = [r[1] for r in results]\n",
        "\n",
        "df_best = pd.DataFrame(results_summary)\n",
        "\n",
        "df_all = pd.concat(results_all, ignore_index=True)\n",
        "\n",
        "print(\"\\n===== Best Parameters Summary =====\")\n",
        "print(df_best)\n",
        "\n",
        "print(\"\\n===== All Grid Search Results =====\")\n",
        "print(df_all[[\"Architecture\", \"params\", \"mean_test_score\", \"std_test_score\", \"mean_train_score\"]])\n",
        "\n",
        "print(\"\\n===== Test Results with F1-score =====\")\n",
        "print(df_best[[\"Architecture\", \"Test Accuracy\", \"Test F1-score\", \"Train Accuracy\", \"Train F1-score\"]])"
      ]
    },
    {
      "cell_type": "markdown",
      "metadata": {
        "id": "X5U3iXYi0dRe"
      },
      "source": [
        "## Identificando a mellhor solução\n",
        "\n",
        "Como resultado da busca em grande com validação cruzada 5-fold, identifique o modelo otimizado com melhor desempenho para o problema. Apresente claramente este modelo, seus parâmetros, hiperparâmetros otimizados e resultados para cada um dos folds avaliados. Esta é a melhor solução identificada em decorrência deste projeto"
      ]
    },
    {
      "cell_type": "markdown",
      "metadata": {
        "id": "zx3UU8SKMICg"
      },
      "source": [
        "O modelo com os parâmetros e resultados que mais se destacou dentre os demais, está exibido abaixo nesta tabela. (Obs: devido a grande quantidade de poder computacional exigida, foi feito somente validação cruzada 3-fold)."
      ]
    },
    {
      "cell_type": "code",
      "execution_count": null,
      "metadata": {
        "id": "MTPOL5520dRf",
        "outputId": "95d8c126-13ff-4698-a2e2-5830ff5495a0"
      },
      "outputs": [
        {
          "name": "stdout",
          "output_type": "stream",
          "text": [
            "\n",
            "===== Best Neural Network (Test Accuracy e Test F1-score) =====\n",
            "Architecture        Numeric, hidden (8,4), tanh\n",
            "Mean CV Accuracy                       0.728336\n",
            "Test Accuracy                          0.723977\n",
            "Test F1-score                           0.71307\n",
            "Train Accuracy                         0.723738\n",
            "Train F1-score                         0.712788\n",
            "Name: 3, dtype: object\n",
            "Best Parameters:\n",
            "{                                     'mlp__batch_size': 32,\n",
            "                                      'mlp__learning_rate_init': 0.001,\n",
            "                                      'mlp__max_iter': 200,\n",
            "                                      'mlp__n_iter_no_change': 10,\n",
            "                                      'mlp__solver': 'adam'}\n"
          ]
        }
      ],
      "source": [
        "from pprint import pprint\n",
        "df_best_ = pd.DataFrame(results_summary.copy())\n",
        "\n",
        "df_best_sorted = df_best_.sort_values(by=[\"Test Accuracy\", \"Test F1-score\"], ascending=[False, False])\n",
        "\n",
        "best_model_ = df_best_sorted.iloc[0]\n",
        "\n",
        "print(\"\\n===== Best Neural Network (Test Accuracy e Test F1-score) =====\")\n",
        "print(best_model_[[\"Architecture\", \"Mean CV Accuracy\", \"Test Accuracy\", \"Test F1-score\", \"Train Accuracy\", \"Train F1-score\"]])\n",
        "print(\"Best Parameters:\")\n",
        "pprint(best_model_[\"Best Parameters\"], indent=38)"
      ]
    },
    {
      "cell_type": "markdown",
      "metadata": {
        "id": "Xk5veFKb0dRf"
      },
      "source": [
        "## Empacotando a solução\n",
        "\n",
        "Suponha que você deve entregar este classificador ao órgão responsável por administrar o Roosevelt National Park. Para tanto, você deve fazer uma preparação do mesmo para utilização neste cenário. Uma vez que já identificou os melhores parâmetros e hiperparâmetros, o passo remanescente consiste em treinar o modelo com estes valores e todos os dados disponíveis, salvando o conjunto de pesos do modelo ao final para entrega ao cliente. Assim, finalize o projeto prático realizando tais passos.\n",
        "\n",
        "1. Consulte a documentação a seguir:\n",
        "https://scikit-learn.org/stable/modules/model_persistence.html  \n",
        "2. Treine o modelo com todos os dados  \n",
        "3. Salve o modelo em disco  \n",
        "4. Construa uma rotina que recupere o modelo em disco  \n",
        "5. Mostre que a rotina é funcional, fazendo previsões com todos os elementos do dataset e exibindo uma matriz de confusão das mesmas"
      ]
    },
    {
      "cell_type": "code",
      "execution_count": null,
      "metadata": {
        "id": "M5Rt6urf0dRf",
        "outputId": "65f22330-4b24-4881-8b27-9c8fb798c60c"
      },
      "outputs": [
        {
          "name": "stdout",
          "output_type": "stream",
          "text": [
            "Dataset shape: (581012, 55)\n"
          ]
        }
      ],
      "source": [
        "path = kagglehub.dataset_download(\"uciml/forest-cover-type-dataset\")\n",
        "df = pd.read_csv(f\"{path}/covtype.csv\")\n",
        "print(\"Dataset shape:\", df.shape)\n",
        "\n",
        "y = df[\"Cover_Type\"]\n",
        "X = df.drop(\"Cover_Type\", axis=1)\n",
        "\n",
        "num_cols = X.columns"
      ]
    },
    {
      "cell_type": "code",
      "execution_count": null,
      "metadata": {
        "id": "T7d7TvUnMICh"
      },
      "outputs": [],
      "source": [
        "numeric_transformer = Pipeline(steps=[\n",
        "    (\"scaler\", StandardScaler())\n",
        "])\n",
        "\n",
        "preprocessor_final = ColumnTransformer(\n",
        "    transformers=[(\"num\", numeric_transformer, num_cols)]\n",
        ")\n",
        "\n",
        "best_params = {\n",
        "    'hidden_layer_sizes': (8, 4),\n",
        "    'activation': 'tanh',\n",
        "    'solver': 'adam',\n",
        "    'batch_size': 32,\n",
        "    'learning_rate_init': 0.001,\n",
        "    'max_iter': 200,\n",
        "    'n_iter_no_change': 10,\n",
        "    'random_state': 42\n",
        "}"
      ]
    },
    {
      "cell_type": "code",
      "execution_count": null,
      "metadata": {
        "id": "_9-lt-qeMICi"
      },
      "outputs": [],
      "source": [
        "def train_final_model(X, y):\n",
        "    final_model = Pipeline(steps=[\n",
        "        (\"preprocessor\", preprocessor_final),\n",
        "        (\"mlp\", MLPClassifier(**best_params))\n",
        "    ])\n",
        "    final_model.fit(X, y)\n",
        "    return final_model"
      ]
    },
    {
      "cell_type": "code",
      "execution_count": null,
      "metadata": {
        "id": "lyIyBx7qMICi",
        "outputId": "b2f8d865-85ec-4084-caca-a436d6ecd277"
      },
      "outputs": [
        {
          "name": "stderr",
          "output_type": "stream",
          "text": [
            "[Parallel(n_jobs=-1)]: Using backend LokyBackend with 8 concurrent workers.\n",
            "[Parallel(n_jobs=-1)]: Done 1 out of 1 | elapsed:  7.5min\n"
          ]
        },
        {
          "data": {
            "text/plain": [
              "['final_mlp_model.joblib']"
            ]
          },
          "execution_count": 38,
          "metadata": {},
          "output_type": "execute_result"
        }
      ],
      "source": [
        "models = Parallel(n_jobs=-1, verbose=10)(\n",
        "    [delayed(train_final_model)(X, y)]\n",
        ")\n",
        "\n",
        "final_model = models[0]\n",
        "dump(final_model, \"final_mlp_model.joblib\")"
      ]
    },
    {
      "cell_type": "code",
      "execution_count": null,
      "metadata": {
        "id": "0hqhoE9tMICi",
        "outputId": "4fe01713-9900-48c1-d7a4-b286efcb438d"
      },
      "outputs": [
        {
          "name": "stdout",
          "output_type": "stream",
          "text": [
            "\n",
            " Final F1-score: 0.7470\n"
          ]
        }
      ],
      "source": [
        "# Loading saved models with joblib and predict\n",
        "\n",
        "loaded_model = load(\"final_mlp_model.joblib\")\n",
        "\n",
        "y_pred_full = loaded_model.predict(X)\n",
        "\n",
        "f1_final = f1_score(y, y_pred_full, average='weighted')\n",
        "print(f\"\\n Final F1-score: {f1_final:.4f}\")"
      ]
    },
    {
      "cell_type": "code",
      "execution_count": null,
      "metadata": {
        "id": "prp04Qz2MICj",
        "outputId": "4bd63d57-d473-4778-c39a-cade87d5bf6a"
      },
      "outputs": [
        {
          "data": {
            "image/png": "[encoded data removed]",
            "text/plain": [
              "<Figure size 640x480 with 2 Axes>"
            ]
          },
          "metadata": {},
          "output_type": "display_data"
        }
      ],
      "source": [
        "cm = confusion_matrix(y, y_pred_full)\n",
        "disp = ConfusionMatrixDisplay(confusion_matrix=cm)\n",
        "disp.plot(cmap=\"viridis\", xticks_rotation=\"vertical\")\n",
        "plt.title(\"Confusion Matrix - Final Model (MLP tanh (8,4))\")\n",
        "plt.show()"
      ]
    },
    {
      "cell_type": "code",
      "execution_count": null,
      "metadata": {
        "id": "5CtPWLc4MICj"
      },
      "outputs": [],
      "source": []
    }
  ],
  "metadata": {
    "colab": {
      "provenance": [],
      "include_colab_link": true
    },
    "kernelspec": {
      "display_name": "Python 3 (ipykernel)",
      "language": "python",
      "name": "python3"
    },
    "language_info": {
      "codemirror_mode": {
        "name": "ipython",
        "version": 3
      },
      "file_extension": ".py",
      "mimetype": "text/x-python",
      "name": "python",
      "nbconvert_exporter": "python",
      "pygments_lexer": "ipython3",
      "version": "3.10.12"
    }
  },
  "nbformat": 4,
  "nbformat_minor": 0
}